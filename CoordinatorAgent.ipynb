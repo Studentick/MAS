{
  "cells": [
    {
      "cell_type": "code",
      "execution_count": 1,
      "metadata": {
        "id": "laYYeSQD4XLt",
        "colab": {
          "base_uri": "https://localhost:8080/"
        },
        "outputId": "2b77623c-ac8b-46c4-920d-090b88f2e233"
      },
      "outputs": [
        {
          "output_type": "stream",
          "name": "stdout",
          "text": [
            "Looking in indexes: https://pypi.org/simple, https://us-python.pkg.dev/colab-wheels/public/simple/\n",
            "Collecting spade\n",
            "  Downloading spade-3.2.2-py2.py3-none-any.whl (33 kB)\n",
            "Collecting aioxmpp>=0.12.2\n",
            "  Downloading aioxmpp-0.13.2.tar.gz (387 kB)\n",
            "\u001b[K     |████████████████████████████████| 387 kB 7.5 MB/s \n",
            "\u001b[?25hCollecting aiohttp-jinja2==1.4.2\n",
            "  Downloading aiohttp_jinja2-1.4.2-py3-none-any.whl (11 kB)\n",
            "Collecting timeago==1.0.8\n",
            "  Downloading timeago-1.0.8-py2.py3-none-any.whl (23 kB)\n",
            "Collecting pyasn1-modules==0.2.7\n",
            "  Downloading pyasn1_modules-0.2.7-py2.py3-none-any.whl (131 kB)\n",
            "\u001b[K     |████████████████████████████████| 131 kB 41.1 MB/s \n",
            "\u001b[?25hCollecting jinja2-time==0.2.0\n",
            "  Downloading jinja2_time-0.2.0-py2.py3-none-any.whl (6.4 kB)\n",
            "Collecting multidict==4.5.2\n",
            "  Downloading multidict-4.5.2-cp37-cp37m-manylinux1_x86_64.whl (309 kB)\n",
            "\u001b[K     |████████████████████████████████| 309 kB 11.5 MB/s \n",
            "\u001b[?25hCollecting aiohttp==3.7.4.post0\n",
            "  Downloading aiohttp-3.7.4.post0-cp37-cp37m-manylinux2014_x86_64.whl (1.3 MB)\n",
            "\u001b[K     |████████████████████████████████| 1.3 MB 47.6 MB/s \n",
            "\u001b[?25hCollecting singletonify==0.2.3\n",
            "  Downloading singletonify-0.2.3-py3-none-any.whl (2.4 kB)\n",
            "Collecting jinja2==3.0.1\n",
            "  Downloading Jinja2-3.0.1-py3-none-any.whl (133 kB)\n",
            "\u001b[K     |████████████████████████████████| 133 kB 55.9 MB/s \n",
            "\u001b[?25hCollecting pyasn1==0.4.7\n",
            "  Downloading pyasn1-0.4.7-py2.py3-none-any.whl (76 kB)\n",
            "\u001b[K     |████████████████████████████████| 76 kB 6.3 MB/s \n",
            "\u001b[?25hCollecting yarl<2.0,>=1.0\n",
            "  Downloading yarl-1.7.2-cp37-cp37m-manylinux_2_5_x86_64.manylinux1_x86_64.manylinux_2_12_x86_64.manylinux2010_x86_64.whl (271 kB)\n",
            "\u001b[K     |████████████████████████████████| 271 kB 54.8 MB/s \n",
            "\u001b[?25hRequirement already satisfied: chardet<5.0,>=2.0 in /usr/local/lib/python3.7/dist-packages (from aiohttp==3.7.4.post0->spade) (3.0.4)\n",
            "Requirement already satisfied: typing-extensions>=3.6.5 in /usr/local/lib/python3.7/dist-packages (from aiohttp==3.7.4.post0->spade) (4.1.1)\n",
            "Requirement already satisfied: attrs>=17.3.0 in /usr/local/lib/python3.7/dist-packages (from aiohttp==3.7.4.post0->spade) (21.4.0)\n",
            "Collecting async-timeout<4.0,>=3.0\n",
            "  Downloading async_timeout-3.0.1-py3-none-any.whl (8.2 kB)\n",
            "Requirement already satisfied: MarkupSafe>=2.0 in /usr/local/lib/python3.7/dist-packages (from jinja2==3.0.1->spade) (2.0.1)\n",
            "Collecting arrow\n",
            "  Downloading arrow-1.2.2-py3-none-any.whl (64 kB)\n",
            "\u001b[K     |████████████████████████████████| 64 kB 3.3 MB/s \n",
            "\u001b[?25hCollecting aiosasl>=0.3\n",
            "  Downloading aiosasl-0.5.0.tar.gz (28 kB)\n",
            "Collecting aioopenssl>=0.1\n",
            "  Downloading aioopenssl-0.6.0.tar.gz (15 kB)\n",
            "Requirement already satisfied: babel~=2.3 in /usr/local/lib/python3.7/dist-packages (from aioxmpp>=0.12.2->spade) (2.10.2)\n",
            "Collecting dnspython<3.0,>=1.0\n",
            "  Downloading dnspython-2.2.1-py3-none-any.whl (269 kB)\n",
            "\u001b[K     |████████████████████████████████| 269 kB 51.1 MB/s \n",
            "\u001b[?25hRequirement already satisfied: lxml~=4.0 in /usr/local/lib/python3.7/dist-packages (from aioxmpp>=0.12.2->spade) (4.2.6)\n",
            "Collecting sortedcollections~=2.1\n",
            "  Downloading sortedcollections-2.1.0-py3-none-any.whl (9.5 kB)\n",
            "Collecting pyOpenSSL\n",
            "  Downloading pyOpenSSL-22.0.0-py2.py3-none-any.whl (55 kB)\n",
            "\u001b[K     |████████████████████████████████| 55 kB 4.8 MB/s \n",
            "\u001b[?25hRequirement already satisfied: tzlocal>=1.2 in /usr/local/lib/python3.7/dist-packages (from aioxmpp>=0.12.2->spade) (1.5.1)\n",
            "Requirement already satisfied: pytz>=2015.7 in /usr/local/lib/python3.7/dist-packages (from babel~=2.3->aioxmpp>=0.12.2->spade) (2022.1)\n",
            "Requirement already satisfied: sortedcontainers in /usr/local/lib/python3.7/dist-packages (from sortedcollections~=2.1->aioxmpp>=0.12.2->spade) (2.4.0)\n",
            "Requirement already satisfied: idna>=2.0 in /usr/local/lib/python3.7/dist-packages (from yarl<2.0,>=1.0->aiohttp==3.7.4.post0->spade) (2.10)\n",
            "Requirement already satisfied: python-dateutil>=2.7.0 in /usr/local/lib/python3.7/dist-packages (from arrow->jinja2-time==0.2.0->spade) (2.8.2)\n",
            "Requirement already satisfied: six>=1.5 in /usr/local/lib/python3.7/dist-packages (from python-dateutil>=2.7.0->arrow->jinja2-time==0.2.0->spade) (1.15.0)\n",
            "Collecting cryptography>=35.0\n",
            "  Downloading cryptography-37.0.2-cp36-abi3-manylinux_2_24_x86_64.whl (4.0 MB)\n",
            "\u001b[K     |████████████████████████████████| 4.0 MB 42.1 MB/s \n",
            "\u001b[?25hRequirement already satisfied: cffi>=1.12 in /usr/local/lib/python3.7/dist-packages (from cryptography>=35.0->pyOpenSSL->aioxmpp>=0.12.2->spade) (1.15.0)\n",
            "Requirement already satisfied: pycparser in /usr/local/lib/python3.7/dist-packages (from cffi>=1.12->cryptography>=35.0->pyOpenSSL->aioxmpp>=0.12.2->spade) (2.21)\n",
            "Building wheels for collected packages: aioxmpp, aioopenssl, aiosasl\n",
            "  Building wheel for aioxmpp (setup.py) ... \u001b[?25l\u001b[?25hdone\n",
            "  Created wheel for aioxmpp: filename=aioxmpp-0.13.2-py3-none-any.whl size=471415 sha256=b15a24f42930a6b00f24cad76ce81c66a3575a9b0f89e1706e879b05c3f21bc1\n",
            "  Stored in directory: /root/.cache/pip/wheels/81/0c/86/a64dbae6e3f03010fa95e255b50c69c0f059857941438fa174\n",
            "  Building wheel for aioopenssl (setup.py) ... \u001b[?25l\u001b[?25hdone\n",
            "  Created wheel for aioopenssl: filename=aioopenssl-0.6.0-py3-none-any.whl size=15357 sha256=b87f55c251123b3d5ebb391e342485828295d9aa30b18bf0be23dd88323ce290\n",
            "  Stored in directory: /root/.cache/pip/wheels/f8/f6/a8/34ac1336353448e4a89b3f62344c05d0a1bb5a328e325fa6ed\n",
            "  Building wheel for aiosasl (setup.py) ... \u001b[?25l\u001b[?25hdone\n",
            "  Created wheel for aiosasl: filename=aiosasl-0.5.0-py3-none-any.whl size=35837 sha256=4ea6c865ad0c49d01febe46a5ac2a3308ab49b66c4149eab497e441ff96c9cd7\n",
            "  Stored in directory: /root/.cache/pip/wheels/44/c4/4a/a85d90beae63cf7aacef55dd6bb98ca78adc9a7b2978628bb6\n",
            "Successfully built aioxmpp aioopenssl aiosasl\n",
            "Installing collected packages: multidict, cryptography, yarl, pyOpenSSL, pyasn1, async-timeout, sortedcollections, pyasn1-modules, jinja2, dnspython, arrow, aiosasl, aioopenssl, aiohttp, timeago, singletonify, jinja2-time, aioxmpp, aiohttp-jinja2, spade\n",
            "  Attempting uninstall: pyasn1\n",
            "    Found existing installation: pyasn1 0.4.8\n",
            "    Uninstalling pyasn1-0.4.8:\n",
            "      Successfully uninstalled pyasn1-0.4.8\n",
            "  Attempting uninstall: pyasn1-modules\n",
            "    Found existing installation: pyasn1-modules 0.2.8\n",
            "    Uninstalling pyasn1-modules-0.2.8:\n",
            "      Successfully uninstalled pyasn1-modules-0.2.8\n",
            "  Attempting uninstall: jinja2\n",
            "    Found existing installation: Jinja2 2.11.3\n",
            "    Uninstalling Jinja2-2.11.3:\n",
            "      Successfully uninstalled Jinja2-2.11.3\n",
            "\u001b[31mERROR: pip's dependency resolver does not currently take into account all the packages that are installed. This behaviour is the source of the following dependency conflicts.\n",
            "flask 1.1.4 requires Jinja2<3.0,>=2.10.1, but you have jinja2 3.0.1 which is incompatible.\n",
            "datascience 0.10.6 requires folium==0.2.1, but you have folium 0.8.3 which is incompatible.\u001b[0m\n",
            "Successfully installed aiohttp-3.7.4.post0 aiohttp-jinja2-1.4.2 aioopenssl-0.6.0 aiosasl-0.5.0 aioxmpp-0.13.2 arrow-1.2.2 async-timeout-3.0.1 cryptography-37.0.2 dnspython-2.2.1 jinja2-3.0.1 jinja2-time-0.2.0 multidict-4.5.2 pyOpenSSL-22.0.0 pyasn1-0.4.7 pyasn1-modules-0.2.7 singletonify-0.2.3 sortedcollections-2.1.0 spade-3.2.2 timeago-1.0.8 yarl-1.7.2\n"
          ]
        }
      ],
      "source": [
        "pip install spade"
      ]
    },
    {
      "cell_type": "code",
      "execution_count": 4,
      "metadata": {
        "id": "Gh37TQ3t4vHV"
      },
      "outputs": [],
      "source": [
        "# Для очистки консоли\n",
        "from IPython.display import clear_output"
      ]
    },
    {
      "cell_type": "code",
      "execution_count": 5,
      "metadata": {
        "id": "-O6hvlcn4tTy"
      },
      "outputs": [],
      "source": [
        "import datetime\n",
        "import getpass\n",
        "import time\n",
        "\n",
        "from spade import quit_spade\n",
        "from spade.agent import Agent\n",
        "from spade.behaviour import CyclicBehaviour, PeriodicBehaviour\n",
        "from spade.message import Message\n",
        "from spade.behaviour import OneShotBehaviour"
      ]
    },
    {
      "cell_type": "code",
      "execution_count": 6,
      "metadata": {
        "id": "RoEoFkxU496Q"
      },
      "outputs": [],
      "source": [
        "agents_list = dict()\n",
        "agents_is_losed = dict()"
      ]
    },
    {
      "cell_type": "code",
      "execution_count": 7,
      "metadata": {
        "id": "sxRQWeRr5Atx"
      },
      "outputs": [],
      "source": [
        "class CoordinatorAgent(Agent):\n",
        "    \n",
        "    class ListenBehav(PeriodicBehaviour):\n",
        "        \"\"\"\n",
        "        Информування про роботу агенту координатору\n",
        "        \"\"\"\n",
        "        def clock(self):\n",
        "            # print(f\"Агент {self.agent.jid} работает\")\n",
        "            clock_counter = self.get(\"clock_counter\")\n",
        "            if clock_counter is None:\n",
        "                clock_counter = 0\n",
        "            else:\n",
        "                clock_counter %= 10\n",
        "                if clock_counter == 0:\n",
        "                    print(f\"{datetime.datetime.now()}: 'I'm OK'\")\n",
        "                clock_counter+=1\n",
        "            self.set(\"clock_counter\", clock_counter)\n",
        "        async def run(self):\n",
        "            # print(f\"Агент {self.agent.jid} работает\")\n",
        "            self.clock()\n",
        "            msg = await self.receive(timeout=1)\n",
        "\n",
        "            if msg is not None:\n",
        "                sender = f\"{msg.sender.localpart}@{msg.sender.domain}\"\n",
        "                print(f\"Агент {self.agent.jid} услышал {msg.body} from {sender}\")\n",
        "                if msg.metadata['msg_type'] is not None:\n",
        "                    # print(\"is not None yeah\")\n",
        "                    msg_type = msg.metadata['msg_type']\n",
        "                    # print(f\"is {msg_type}\")\n",
        "                    if msg_type == \"connect\":\n",
        "                        answer = self.addAgent(sender, msg.body)\n",
        "                        # if answer:\n",
        "                        await self.sendTable(sender)\n",
        "                            # delll\n",
        "                            # time.sleep(5)\n",
        "                    elif (msg_type == \"Update\"):\n",
        "                        if sender not in list(agents_list.keys()):\n",
        "                            self.addAgent(sender, msg.body)\n",
        "                        await self.sendTable(sender)\n",
        "                    # if msg_type == \"disconnect\":\n",
        "                    #     self.dellAgent(sender)\n",
        "                    #     print(\"dc yeah\")\n",
        "                    \n",
        "\n",
        "        async def sendTable(self, sender):\n",
        "            msg = Message(to=sender)\n",
        "            msg.set_metadata(\"performative\", \"inform\")  # Set the \"inform\" FIPA performative\n",
        "            msg.set_metadata(\"ontology\", \"myOntology\")  # Set the ontology of the message content\n",
        "            msg.set_metadata(\"language\", \"OWL-S\")       # Set the language of the message content\n",
        "            msg.set_metadata(\"msg_type\", \"connectTable\")\n",
        "            msg.body = str(agents_list)\n",
        "            print(msg.body)\n",
        "            await self.send(msg)\n",
        "\n",
        "        def dellAgent(self, sender):\n",
        "            if len(agents_list) != 0:\n",
        "                if (sender in agents_list):\n",
        "                    agents_list.pop(sender)\n",
        "                    return True\n",
        "                return False\n",
        "            else:\n",
        "                return False\n",
        "\n",
        "        # Add typeAgent\n",
        "        def addAgent(self, sender, agnt_type):\n",
        "            # if len(agents_list) == 0:\n",
        "                agents_list.update({sender: agnt_type})\n",
        "                agents_is_losed.update({sender: 0})\n",
        "\n",
        "\n",
        "    class MonitorActiveBeh(PeriodicBehaviour):\n",
        "        async def run(self):\n",
        "            cnt = 0\n",
        "           \n",
        "            while cnt <= 7:\n",
        "                msg = await self.receive(timeout=0.5)\n",
        "\n",
        "                if msg is not None:\n",
        "                    sender = f\"{msg.sender.localpart}@{msg.sender.domain}\"\n",
        "                    print(f\"Агент {self.agent.jid} услышал {msg.body} from {sender}\")\n",
        "                    if msg.metadata['msg_type'] is not None:\n",
        "                        msg_type = msg.metadata['msg_type']\n",
        "                        if (msg_type == \"pong\"):\n",
        "                            agents_is_losed[sender] = 0\n",
        "                            print(\"Счётчик простоя обнулился\")\n",
        "                            cnt = 0\n",
        "                        # else: cnt =+ 1\n",
        "                cnt =+ 1\n",
        "\n",
        "    class PingBeh(PeriodicBehaviour):\n",
        "        async def run(self):\n",
        "            removed_list = list()\n",
        "            for i in agents_is_losed:\n",
        "                agents_is_losed[i] += 1\n",
        "                await self.ping(i)\n",
        "                if agents_is_losed[i] >= 7:\n",
        "                    # print(agents_is_losed)\n",
        "                    # print(agents_list)\n",
        "                    removed_list.append(i)\n",
        "                    # time.sleep(5.5)\n",
        "                    # agents_is_losed.pop(i)\n",
        "                    # agents_list.pop(i)\n",
        "                    # pass\n",
        "            for i in removed_list:\n",
        "                print(agents_is_losed)\n",
        "                print(agents_list)\n",
        "                time.sleep(3)\n",
        "                agents_is_losed.pop(i)\n",
        "                agents_list.pop(i)\n",
        "                print(f\"Agent {i} remowed from list\")\n",
        "\n",
        "        async def ping(self, _to):\n",
        "            print(f\"ping {_to}\")\n",
        "            msg = Message(to=_to)     # Instantiate the message\n",
        "            msg.set_metadata(\"performative\", \"inform\")  # Set the \"inform\" FIPA performative\n",
        "            msg.set_metadata(\"ontology\", \"myOntology\")  # Set the ontology of the message content\n",
        "            msg.set_metadata(\"language\", \"OWL-S\")       # Set the language of the message content\n",
        "            msg.body = \"PING\"                    # Set the message content\n",
        "            msg.set_metadata(\"msg_type\", \"ping\")\n",
        "            await self.send(msg)\n",
        "\n",
        "    async def setup(self):\n",
        "        print(\"CoordinatorAgent started\")\n",
        "        start_at = datetime.datetime.now() + datetime.timedelta(seconds=1)\n",
        "        listenBeh = self.ListenBehav(period=1.3,start_at = start_at)\n",
        "        monitorBeh = self.MonitorActiveBeh(period=5,start_at = start_at)\n",
        "        pingBeh = self.PingBeh(period=5,start_at = start_at)\n",
        "        self.add_behaviour(listenBeh)\n",
        "        self.add_behaviour(monitorBeh)\n",
        "        self.add_behaviour(pingBeh)\n"
      ]
    },
    {
      "cell_type": "code",
      "execution_count": 10,
      "metadata": {
        "colab": {
          "base_uri": "https://localhost:8080/"
        },
        "id": "ku5NLcbh5GNJ",
        "outputId": "5523e6a0-fd5a-4899-843f-072e6a646757"
      },
      "outputs": [
        {
          "output_type": "stream",
          "name": "stdout",
          "text": [
            "ex\n",
            "программа завершила работу\n"
          ]
        }
      ],
      "source": [
        "coord = CoordinatorAgent(\"your_jid@your_xmpp_server\", \"your_password\")\n",
        "\n",
        "future = coord.start(auto_register=True)\n",
        "future.result()\n",
        "\n",
        "ans = \"\"\n",
        "while (ans != \"ex\"):\n",
        "    ans = input()\n",
        "    coord.stop()\n",
        "\n",
        "print(\"программа завершила работу\")"
      ]
    },
    {
      "cell_type": "code",
      "execution_count": null,
      "metadata": {
        "id": "Cthu3vADFO2_"
      },
      "outputs": [],
      "source": [
        ""
      ]
    },
    {
      "cell_type": "code",
      "execution_count": null,
      "metadata": {
        "id": "cnqLyoKTAWXx",
        "colab": {
          "base_uri": "https://localhost:8080/",
          "height": 35
        },
        "outputId": "506b66c3-80e6-497b-f9b1-e34928c259d7"
      },
      "outputs": [
        {
          "output_type": "execute_result",
          "data": {
            "text/plain": [
              "'Factory'"
            ],
            "application/vnd.google.colaboratory.intrinsic+json": {
              "type": "string"
            }
          },
          "metadata": {},
          "execution_count": 10
        }
      ],
      "source": [
        ""
      ]
    },
    {
      "cell_type": "code",
      "execution_count": null,
      "metadata": {
        "colab": {
          "base_uri": "https://localhost:8080/"
        },
        "id": "_RsWJyUOBVBM",
        "outputId": "e893cef8-c7e4-49bb-dc76-1771ca22142f"
      },
      "outputs": [
        {
          "output_type": "execute_result",
          "data": {
            "text/plain": [
              "{}"
            ]
          },
          "metadata": {},
          "execution_count": 11
        }
      ],
      "source": [
        "agents_list"
      ]
    }
  ],
  "metadata": {
    "colab": {
      "collapsed_sections": [],
      "name": "CoordinatorAgent.ipynb",
      "provenance": [],
      "authorship_tag": "ABX9TyOQQLFtpiZXtX7KcVn16QaT"
    },
    "kernelspec": {
      "display_name": "Python 3",
      "name": "python3"
    },
    "language_info": {
      "name": "python"
    }
  },
  "nbformat": 4,
  "nbformat_minor": 0
}